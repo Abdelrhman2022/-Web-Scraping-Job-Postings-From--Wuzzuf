{
 "cells": [
  {
   "cell_type": "code",
   "execution_count": 1,
   "id": "a73e6f64",
   "metadata": {},
   "outputs": [],
   "source": [
    "# import libraries\n",
    "import requests\n",
    "from bs4 import BeautifulSoup\n",
    "import pandas as pd\n",
    "from itertools import zip_longest"
   ]
  },
  {
   "cell_type": "code",
   "execution_count": 2,
   "id": "783b3397",
   "metadata": {},
   "outputs": [],
   "source": [
    "# use requesys to featch the url \n",
    "result = requests.get(\"https://wuzzuf.net/search/jobs/?q=data+scientist+&a=hpb\")"
   ]
  },
  {
   "cell_type": "code",
   "execution_count": 3,
   "id": "340e5119",
   "metadata": {},
   "outputs": [],
   "source": [
    "# Store page Content/Markup\n",
    "source = result.content\n",
    "# Parse content using Beautu=ifulSoup\n",
    "soup = BeautifulSoup(source , 'html')"
   ]
  },
  {
   "cell_type": "code",
   "execution_count": 4,
   "id": "fa83614b",
   "metadata": {},
   "outputs": [],
   "source": [
    "# find elements that we needed\n",
    "\n",
    "job_titles = soup.find_all(\"h2\", {\"class\": \"css-m604qf\"})\n"
   ]
  },
  {
   "cell_type": "code",
   "execution_count": 5,
   "id": "f03088a6",
   "metadata": {},
   "outputs": [],
   "source": [
    "company_names = soup.find_all(\"a\", {\"class\": \"css-17s97q8\"})"
   ]
  },
  {
   "cell_type": "code",
   "execution_count": 6,
   "id": "d3095af9",
   "metadata": {},
   "outputs": [],
   "source": [
    "location_names = soup.find_all(\"span\", {\"class\": \"css-5wys0k\"} )  "
   ]
  },
  {
   "cell_type": "code",
   "execution_count": 7,
   "id": "354a6c27",
   "metadata": {},
   "outputs": [],
   "source": [
    "job_requirements = soup.select('div > div.css-y4udm8 > div')"
   ]
  },
  {
   "cell_type": "code",
   "execution_count": 8,
   "id": "57a7610c",
   "metadata": {},
   "outputs": [],
   "source": [
    "jobs_type = soup.find_all(\"div\", {\"class\": \"css-1lh32fc\"} )"
   ]
  },
  {
   "cell_type": "code",
   "execution_count": 9,
   "id": "ce6c5bea",
   "metadata": {},
   "outputs": [],
   "source": [
    "published_time = soup.select('div > div.css-laomuu > div > div')"
   ]
  },
  {
   "cell_type": "code",
   "execution_count": 10,
   "id": "b0bb5a1c",
   "metadata": {},
   "outputs": [],
   "source": [
    "# add clear text to new list\n",
    "job_title = []\n",
    "company_name = []\n",
    "location_name = []\n",
    "job_requirement = []\n",
    "job_type = []\n",
    "date_posted = []\n",
    "\n",
    "# loop  for all element that we scraped\n",
    "\n",
    "for i in range(len(job_titles)):\n",
    "    job_title.append(job_titles[i].text)\n",
    "    company_name.append(company_names[i].text)\n",
    "    location_name.append(location_names[i].text)\n",
    "    job_type.append(jobs_type[i].text)\n",
    "    date_posted.append(published_time[i].text)\n",
    "    \n",
    "for x in range(len(job_requirements)):\n",
    "    if (x % 2 == 1):\n",
    "        job_requirement.append(job_requirements[x].text)"
   ]
  },
  {
   "cell_type": "code",
   "execution_count": 11,
   "id": "1ac0002a",
   "metadata": {},
   "outputs": [
    {
     "data": {
      "text/plain": [
       "'2 months ago'"
      ]
     },
     "execution_count": 11,
     "metadata": {},
     "output_type": "execute_result"
    }
   ],
   "source": [
    "date_posted[13]"
   ]
  },
  {
   "cell_type": "code",
   "execution_count": 12,
   "id": "8b605cd9",
   "metadata": {},
   "outputs": [
    {
     "name": "stdout",
     "output_type": "stream",
     "text": [
      "Collecting pipreqs\n",
      "  Using cached pipreqs-0.4.11-py2.py3-none-any.whl (32 kB)\n",
      "Collecting docopt\n",
      "  Using cached docopt-0.6.2-py2.py3-none-any.whl\n",
      "Collecting yarg\n",
      "  Using cached yarg-0.1.9-py2.py3-none-any.whl (19 kB)\n",
      "Requirement already satisfied: requests in c:\\users\\abdelrahman ragab\\anaconda3\\envs\\ml\\lib\\site-packages (from yarg->pipreqs) (2.28.1)\n",
      "Requirement already satisfied: certifi>=2017.4.17 in c:\\users\\abdelrahman ragab\\anaconda3\\envs\\ml\\lib\\site-packages (from requests->yarg->pipreqs) (2022.6.15)\n",
      "Requirement already satisfied: urllib3<1.27,>=1.21.1 in c:\\users\\abdelrahman ragab\\anaconda3\\envs\\ml\\lib\\site-packages (from requests->yarg->pipreqs) (1.26.10)\n",
      "Requirement already satisfied: idna<4,>=2.5 in c:\\users\\abdelrahman ragab\\anaconda3\\envs\\ml\\lib\\site-packages (from requests->yarg->pipreqs) (3.3)\n",
      "Requirement already satisfied: charset-normalizer<3,>=2 in c:\\users\\abdelrahman ragab\\anaconda3\\envs\\ml\\lib\\site-packages (from requests->yarg->pipreqs) (2.1.0)\n",
      "Installing collected packages: docopt, yarg, pipreqs\n",
      "Successfully installed docopt-0.6.2 pipreqs-0.4.11 yarg-0.1.9\n"
     ]
    }
   ],
   "source": [
    "!pip install pipreqs"
   ]
  },
  {
   "cell_type": "code",
   "execution_count": 13,
   "id": "82018fee",
   "metadata": {},
   "outputs": [
    {
     "name": "stderr",
     "output_type": "stream",
     "text": [
      "INFO: Successfully saved requirements file in C:\\Users\\Abdelrahman Ragab\\Downloads\\Compressed\\requirements.txt\n"
     ]
    }
   ],
   "source": [
    "!pipreqs \"C:\\Users\\Abdelrahman Ragab\\Downloads\\Compressed\""
   ]
  },
  {
   "cell_type": "code",
   "execution_count": null,
   "id": "e96057fc",
   "metadata": {},
   "outputs": [],
   "source": []
  }
 ],
 "metadata": {
  "kernelspec": {
   "display_name": "Python 3 (ipykernel)",
   "language": "python",
   "name": "python3"
  },
  "language_info": {
   "codemirror_mode": {
    "name": "ipython",
    "version": 3
   },
   "file_extension": ".py",
   "mimetype": "text/x-python",
   "name": "python",
   "nbconvert_exporter": "python",
   "pygments_lexer": "ipython3",
   "version": "3.9.12"
  }
 },
 "nbformat": 4,
 "nbformat_minor": 5
}
