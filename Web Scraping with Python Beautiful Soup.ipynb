{
 "cells": [
  {
   "cell_type": "code",
   "execution_count": 4,
   "id": "a73e6f64",
   "metadata": {},
   "outputs": [],
   "source": [
    "# import libraries\n",
    "import requests\n",
    "from bs4 import BeautifulSoup\n",
    "import pandas as pd\n",
    "from itertools import zip_longest"
   ]
  },
  {
   "cell_type": "code",
   "execution_count": 5,
   "id": "783b3397",
   "metadata": {},
   "outputs": [],
   "source": [
    "# use requesys to featch the url \n",
    "result = requests.get(\"https://wuzzuf.net/search/jobs/?q=data+scientist+&a=hpb\")"
   ]
  },
  {
   "cell_type": "code",
   "execution_count": 6,
   "id": "340e5119",
   "metadata": {},
   "outputs": [],
   "source": [
    "# Store page Content/Markup\n",
    "source = result.content\n",
    "# Parse content using Beautu=ifulSoup\n",
    "soup = BeautifulSoup(source , 'html')"
   ]
  },
  {
   "cell_type": "code",
   "execution_count": 7,
   "id": "fa83614b",
   "metadata": {},
   "outputs": [],
   "source": [
    "# find elements that we needed\n",
    "\n",
    "job_titles = soup.find_all(\"h2\", {\"class\": \"css-m604qf\"})\n"
   ]
  },
  {
   "cell_type": "code",
   "execution_count": 8,
   "id": "f03088a6",
   "metadata": {},
   "outputs": [],
   "source": [
    "company_names = soup.find_all(\"a\", {\"class\": \"css-17s97q8\"})"
   ]
  },
  {
   "cell_type": "code",
   "execution_count": 9,
   "id": "d3095af9",
   "metadata": {},
   "outputs": [],
   "source": [
    "location_names = soup.find_all(\"span\", {\"class\": \"css-5wys0k\"} )  "
   ]
  },
  {
   "cell_type": "code",
   "execution_count": 10,
   "id": "354a6c27",
   "metadata": {},
   "outputs": [],
   "source": [
    "job_requirements = soup.select('div > div.css-y4udm8 > div')"
   ]
  },
  {
   "cell_type": "code",
   "execution_count": 11,
   "id": "57a7610c",
   "metadata": {},
   "outputs": [],
   "source": [
    "jobs_type = soup.find_all(\"div\", {\"class\": \"css-1lh32fc\"} )"
   ]
  },
  {
   "cell_type": "code",
   "execution_count": 12,
   "id": "ce6c5bea",
   "metadata": {},
   "outputs": [],
   "source": [
    "published_time = soup.select('div > div.css-laomuu > div > div')"
   ]
  },
  {
   "cell_type": "code",
   "execution_count": 23,
   "id": "b0bb5a1c",
   "metadata": {},
   "outputs": [],
   "source": [
    "# add clear text to new list\n",
    "job_title = []\n",
    "company_name = []\n",
    "location_name = []\n",
    "job_requirement = []\n",
    "job_type = []\n",
    "date_posted = []\n",
    "\n",
    "# loop  for all element that we scraped\n",
    "\n",
    "for i in range(len(job_titles)):\n",
    "    job_title.append(job_titles[i].text)\n",
    "    company_name.append(company_names[i].text)\n",
    "    location_name.append(location_names[i].text)\n",
    "    job_type.append(jobs_type[i].text)\n",
    "    date_posted.append(published_time[i].text)\n",
    "    \n",
    "for x in range(len(job_requirements)):\n",
    "    if (x % 2 == 1):\n",
    "        job_requirement.append(job_requirements[x].text)"
   ]
  },
  {
   "cell_type": "code",
   "execution_count": 24,
   "id": "1ac0002a",
   "metadata": {},
   "outputs": [
    {
     "data": {
      "text/plain": [
       "'Full TimePart Time'"
      ]
     },
     "execution_count": 24,
     "metadata": {},
     "output_type": "execute_result"
    }
   ],
   "source": [
    "jobs_type[0].text"
   ]
  },
  {
   "cell_type": "code",
   "execution_count": 25,
   "id": "8b605cd9",
   "metadata": {},
   "outputs": [
    {
     "name": "stdout",
     "output_type": "stream",
     "text": [
      "Requirement already satisfied: pipreqs in c:\\users\\abdelrahman ragab\\anaconda3\\envs\\ml\\lib\\site-packages (0.4.11)\n",
      "Requirement already satisfied: yarg in c:\\users\\abdelrahman ragab\\anaconda3\\envs\\ml\\lib\\site-packages (from pipreqs) (0.1.9)\n",
      "Requirement already satisfied: docopt in c:\\users\\abdelrahman ragab\\anaconda3\\envs\\ml\\lib\\site-packages (from pipreqs) (0.6.2)\n",
      "Requirement already satisfied: requests in c:\\users\\abdelrahman ragab\\anaconda3\\envs\\ml\\lib\\site-packages (from yarg->pipreqs) (2.28.1)\n",
      "Requirement already satisfied: idna<4,>=2.5 in c:\\users\\abdelrahman ragab\\anaconda3\\envs\\ml\\lib\\site-packages (from requests->yarg->pipreqs) (3.3)\n",
      "Requirement already satisfied: charset-normalizer<3,>=2 in c:\\users\\abdelrahman ragab\\anaconda3\\envs\\ml\\lib\\site-packages (from requests->yarg->pipreqs) (2.1.0)\n",
      "Requirement already satisfied: urllib3<1.27,>=1.21.1 in c:\\users\\abdelrahman ragab\\anaconda3\\envs\\ml\\lib\\site-packages (from requests->yarg->pipreqs) (1.26.10)\n",
      "Requirement already satisfied: certifi>=2017.4.17 in c:\\users\\abdelrahman ragab\\anaconda3\\envs\\ml\\lib\\site-packages (from requests->yarg->pipreqs) (2022.6.15)\n"
     ]
    }
   ],
   "source": [
    "!pip install pipreqs"
   ]
  },
  {
   "cell_type": "code",
   "execution_count": 29,
   "id": "e96057fc",
   "metadata": {},
   "outputs": [
    {
     "data": {
      "text/html": [
       "<div>\n",
       "<style scoped>\n",
       "    .dataframe tbody tr th:only-of-type {\n",
       "        vertical-align: middle;\n",
       "    }\n",
       "\n",
       "    .dataframe tbody tr th {\n",
       "        vertical-align: top;\n",
       "    }\n",
       "\n",
       "    .dataframe thead th {\n",
       "        text-align: right;\n",
       "    }\n",
       "</style>\n",
       "<table border=\"1\" class=\"dataframe\">\n",
       "  <thead>\n",
       "    <tr style=\"text-align: right;\">\n",
       "      <th></th>\n",
       "      <th>Job Title</th>\n",
       "      <th>Company Name</th>\n",
       "      <th>Location Name</th>\n",
       "      <th>Job Requirement</th>\n",
       "      <th>Job Type</th>\n",
       "      <th>Posted Published</th>\n",
       "    </tr>\n",
       "  </thead>\n",
       "  <tbody>\n",
       "    <tr>\n",
       "      <th>0</th>\n",
       "      <td>Data Scientist &amp; BI Developer</td>\n",
       "      <td>Easy System -</td>\n",
       "      <td>New Cairo, Cairo, Egypt</td>\n",
       "      <td>Experienced · 5 - 10 Yrs of Exp · IT/Software ...</td>\n",
       "      <td>Full TimePart Time</td>\n",
       "      <td>1 month ago</td>\n",
       "    </tr>\n",
       "    <tr>\n",
       "      <th>1</th>\n",
       "      <td>Data Scientist</td>\n",
       "      <td>Seoudi Supermarket -</td>\n",
       "      <td>Sheikh Zayed, Giza, Egypt</td>\n",
       "      <td>Entry Level · 1 - 4 Yrs of Exp · IT/Software D...</td>\n",
       "      <td>Full Time</td>\n",
       "      <td>1 month ago</td>\n",
       "    </tr>\n",
       "    <tr>\n",
       "      <th>2</th>\n",
       "      <td>Sr- Data Engineer</td>\n",
       "      <td>more and more -</td>\n",
       "      <td>Cairo, Egypt</td>\n",
       "      <td>Experienced · 4 - 10 Yrs of Exp · IT/Software ...</td>\n",
       "      <td>Full Time</td>\n",
       "      <td>12 days ago</td>\n",
       "    </tr>\n",
       "    <tr>\n",
       "      <th>3</th>\n",
       "      <td>Data Annotation</td>\n",
       "      <td>GAP CLOUD -</td>\n",
       "      <td>Maadi, Cairo, Egypt</td>\n",
       "      <td>Experienced · 2+ Yrs of Exp · Administration ·...</td>\n",
       "      <td>Full TimePart Time</td>\n",
       "      <td>3 days ago</td>\n",
       "    </tr>\n",
       "    <tr>\n",
       "      <th>4</th>\n",
       "      <td>Data &amp; Reporting Lead</td>\n",
       "      <td>Edentech -</td>\n",
       "      <td>Cairo, Egypt</td>\n",
       "      <td>Manager · 8+ Yrs of Exp · IT/Software Developm...</td>\n",
       "      <td>Full Time</td>\n",
       "      <td>2 months ago</td>\n",
       "    </tr>\n",
       "    <tr>\n",
       "      <th>5</th>\n",
       "      <td>Big data Expert</td>\n",
       "      <td>Perfect Presentation -</td>\n",
       "      <td>6th of October, Giza, Egypt</td>\n",
       "      <td>Experienced · 5 - 7 Yrs of Exp · IT/Software D...</td>\n",
       "      <td>Full Time</td>\n",
       "      <td>1 month ago</td>\n",
       "    </tr>\n",
       "    <tr>\n",
       "      <th>6</th>\n",
       "      <td>Full Stack Senior Java Developer (Remotely for...</td>\n",
       "      <td>Mobile Wave 3 -</td>\n",
       "      <td>Nasr City, Cairo, Egypt</td>\n",
       "      <td>Experienced · 4 - 7 Yrs of Exp · IT/Software D...</td>\n",
       "      <td>Full Time</td>\n",
       "      <td>24 days ago</td>\n",
       "    </tr>\n",
       "    <tr>\n",
       "      <th>7</th>\n",
       "      <td>Research Software Development Engineer</td>\n",
       "      <td>TensorGraph -</td>\n",
       "      <td>Maadi, Cairo, Egypt</td>\n",
       "      <td>Experienced · 2 - 4 Yrs of Exp · IT/Software D...</td>\n",
       "      <td>Full Time</td>\n",
       "      <td>18 days ago</td>\n",
       "    </tr>\n",
       "    <tr>\n",
       "      <th>8</th>\n",
       "      <td>Marketing Executive</td>\n",
       "      <td>Hamza Group -</td>\n",
       "      <td>Dokki, Giza, Egypt</td>\n",
       "      <td>Experienced · 3+ Yrs of Exp · Marketing/PR/Adv...</td>\n",
       "      <td>Full Time</td>\n",
       "      <td>1 month ago</td>\n",
       "    </tr>\n",
       "    <tr>\n",
       "      <th>9</th>\n",
       "      <td>Enterprise Architect Lead</td>\n",
       "      <td>Meem Development -</td>\n",
       "      <td>Glim, Alexandria, Egypt</td>\n",
       "      <td>Manager · 8 - 12 Yrs of Exp · IT/Software Deve...</td>\n",
       "      <td>Full Time</td>\n",
       "      <td>1 month ago</td>\n",
       "    </tr>\n",
       "    <tr>\n",
       "      <th>10</th>\n",
       "      <td>Integration Developer</td>\n",
       "      <td>Perfect Presentation -</td>\n",
       "      <td>6th of October, Giza, Egypt</td>\n",
       "      <td>Experienced · 5 - 7 Yrs of Exp · IT/Software D...</td>\n",
       "      <td>Full Time</td>\n",
       "      <td>1 month ago</td>\n",
       "    </tr>\n",
       "    <tr>\n",
       "      <th>11</th>\n",
       "      <td>Senior Computer Vision Engineer</td>\n",
       "      <td>Atomica -</td>\n",
       "      <td>Cairo, Egypt</td>\n",
       "      <td>Experienced · 3 - 10 Yrs of Exp · IT/Software ...</td>\n",
       "      <td>Full TimeWork From Home</td>\n",
       "      <td>1 month ago</td>\n",
       "    </tr>\n",
       "    <tr>\n",
       "      <th>12</th>\n",
       "      <td>Mean Stack Developer</td>\n",
       "      <td>Advansys ESC -</td>\n",
       "      <td>Nasr City, Cairo, Egypt</td>\n",
       "      <td>Experienced · 2 - 3 Yrs of Exp · IT/Software D...</td>\n",
       "      <td>Full Time</td>\n",
       "      <td>2 months ago</td>\n",
       "    </tr>\n",
       "    <tr>\n",
       "      <th>13</th>\n",
       "      <td>Computer Vision Engineer</td>\n",
       "      <td>Atomica -</td>\n",
       "      <td>Cairo, Egypt</td>\n",
       "      <td>Entry Level · 1 - 10 Yrs of Exp · IT/Software ...</td>\n",
       "      <td>Full TimeWork From Home</td>\n",
       "      <td>2 months ago</td>\n",
       "    </tr>\n",
       "  </tbody>\n",
       "</table>\n",
       "</div>"
      ],
      "text/plain": [
       "                                            Job Title            Company Name  \\\n",
       "0                       Data Scientist & BI Developer           Easy System -   \n",
       "1                                      Data Scientist    Seoudi Supermarket -   \n",
       "2                                   Sr- Data Engineer         more and more -   \n",
       "3                                     Data Annotation             GAP CLOUD -   \n",
       "4                               Data & Reporting Lead              Edentech -   \n",
       "5                                     Big data Expert  Perfect Presentation -   \n",
       "6   Full Stack Senior Java Developer (Remotely for...         Mobile Wave 3 -   \n",
       "7              Research Software Development Engineer           TensorGraph -   \n",
       "8                                 Marketing Executive           Hamza Group -   \n",
       "9                           Enterprise Architect Lead      Meem Development -   \n",
       "10                              Integration Developer  Perfect Presentation -   \n",
       "11                    Senior Computer Vision Engineer               Atomica -   \n",
       "12                               Mean Stack Developer          Advansys ESC -   \n",
       "13                           Computer Vision Engineer               Atomica -   \n",
       "\n",
       "                   Location Name  \\\n",
       "0       New Cairo, Cairo, Egypt    \n",
       "1     Sheikh Zayed, Giza, Egypt    \n",
       "2                  Cairo, Egypt    \n",
       "3           Maadi, Cairo, Egypt    \n",
       "4                  Cairo, Egypt    \n",
       "5   6th of October, Giza, Egypt    \n",
       "6       Nasr City, Cairo, Egypt    \n",
       "7           Maadi, Cairo, Egypt    \n",
       "8            Dokki, Giza, Egypt    \n",
       "9       Glim, Alexandria, Egypt    \n",
       "10  6th of October, Giza, Egypt    \n",
       "11                 Cairo, Egypt    \n",
       "12      Nasr City, Cairo, Egypt    \n",
       "13                 Cairo, Egypt    \n",
       "\n",
       "                                      Job Requirement  \\\n",
       "0   Experienced · 5 - 10 Yrs of Exp · IT/Software ...   \n",
       "1   Entry Level · 1 - 4 Yrs of Exp · IT/Software D...   \n",
       "2   Experienced · 4 - 10 Yrs of Exp · IT/Software ...   \n",
       "3   Experienced · 2+ Yrs of Exp · Administration ·...   \n",
       "4   Manager · 8+ Yrs of Exp · IT/Software Developm...   \n",
       "5   Experienced · 5 - 7 Yrs of Exp · IT/Software D...   \n",
       "6   Experienced · 4 - 7 Yrs of Exp · IT/Software D...   \n",
       "7   Experienced · 2 - 4 Yrs of Exp · IT/Software D...   \n",
       "8   Experienced · 3+ Yrs of Exp · Marketing/PR/Adv...   \n",
       "9   Manager · 8 - 12 Yrs of Exp · IT/Software Deve...   \n",
       "10  Experienced · 5 - 7 Yrs of Exp · IT/Software D...   \n",
       "11  Experienced · 3 - 10 Yrs of Exp · IT/Software ...   \n",
       "12  Experienced · 2 - 3 Yrs of Exp · IT/Software D...   \n",
       "13  Entry Level · 1 - 10 Yrs of Exp · IT/Software ...   \n",
       "\n",
       "                   Job Type Posted Published  \n",
       "0        Full TimePart Time      1 month ago  \n",
       "1                 Full Time      1 month ago  \n",
       "2                 Full Time      12 days ago  \n",
       "3        Full TimePart Time       3 days ago  \n",
       "4                 Full Time     2 months ago  \n",
       "5                 Full Time      1 month ago  \n",
       "6                 Full Time      24 days ago  \n",
       "7                 Full Time      18 days ago  \n",
       "8                 Full Time      1 month ago  \n",
       "9                 Full Time      1 month ago  \n",
       "10                Full Time      1 month ago  \n",
       "11  Full TimeWork From Home      1 month ago  \n",
       "12                Full Time     2 months ago  \n",
       "13  Full TimeWork From Home     2 months ago  "
      ]
     },
     "execution_count": 29,
     "metadata": {},
     "output_type": "execute_result"
    }
   ],
   "source": [
    "# Pandas Dataframe\n",
    "\n",
    "df_Jobs = pd.DataFrame({'Job Title':job_title, 'Company Name':company_name, 'Location Name':location_name, 'Job Requirement':job_requirement,\n",
    "                          'Job Type': job_type, 'Posted Published': date_posted})\n",
    "df_Jobs"
   ]
  },
  {
   "cell_type": "code",
   "execution_count": 33,
   "id": "7d0df623",
   "metadata": {},
   "outputs": [],
   "source": [
    "# Store results in Excel\n",
    "\n",
    "df_Jobs.to_csv('Jobs.csv', index=False)"
   ]
  },
  {
   "cell_type": "code",
   "execution_count": null,
   "id": "fe2c35a5",
   "metadata": {},
   "outputs": [],
   "source": []
  },
  {
   "cell_type": "code",
   "execution_count": null,
   "id": "0480c64e",
   "metadata": {},
   "outputs": [],
   "source": []
  },
  {
   "cell_type": "code",
   "execution_count": null,
   "id": "2b0cd413",
   "metadata": {},
   "outputs": [],
   "source": []
  }
 ],
 "metadata": {
  "kernelspec": {
   "display_name": "Python 3 (ipykernel)",
   "language": "python",
   "name": "python3"
  },
  "language_info": {
   "codemirror_mode": {
    "name": "ipython",
    "version": 3
   },
   "file_extension": ".py",
   "mimetype": "text/x-python",
   "name": "python",
   "nbconvert_exporter": "python",
   "pygments_lexer": "ipython3",
   "version": "3.9.12"
  }
 },
 "nbformat": 4,
 "nbformat_minor": 5
}
