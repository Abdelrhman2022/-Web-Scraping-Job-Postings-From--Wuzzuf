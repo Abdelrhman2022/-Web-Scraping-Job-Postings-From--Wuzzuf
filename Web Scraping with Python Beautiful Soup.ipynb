{
 "cells": [
  {
   "cell_type": "code",
   "execution_count": 15,
   "id": "a73e6f64",
   "metadata": {},
   "outputs": [],
   "source": [
    "# import libraries\n",
    "import requests\n",
    "from bs4 import BeautifulSoup\n",
    "import pandas as pd\n",
    "import string"
   ]
  },
  {
   "cell_type": "code",
   "execution_count": 2,
   "id": "783b3397",
   "metadata": {},
   "outputs": [],
   "source": [
    "# use requesys to featch the url \n",
    "result = requests.get(\"https://wuzzuf.net/search/jobs/?q=data+scientist+&a=hpb\")"
   ]
  },
  {
   "cell_type": "code",
   "execution_count": 3,
   "id": "340e5119",
   "metadata": {},
   "outputs": [],
   "source": [
    "# Store page Content/Markup\n",
    "source = result.content\n",
    "# Parse content using Beautu=ifulSoup\n",
    "soup = BeautifulSoup(source , 'html')"
   ]
  },
  {
   "cell_type": "code",
   "execution_count": 4,
   "id": "fa83614b",
   "metadata": {},
   "outputs": [],
   "source": [
    "# find elements that we needed\n",
    "\n",
    "job_titles = soup.find_all(\"h2\", {\"class\": \"css-m604qf\"})\n"
   ]
  },
  {
   "cell_type": "code",
   "execution_count": 5,
   "id": "f03088a6",
   "metadata": {},
   "outputs": [],
   "source": [
    "company_names = soup.find_all(\"a\", {\"class\": \"css-17s97q8\"})"
   ]
  },
  {
   "cell_type": "code",
   "execution_count": 6,
   "id": "d3095af9",
   "metadata": {},
   "outputs": [],
   "source": [
    "location_names = soup.find_all(\"span\", {\"class\": \"css-5wys0k\"} )  "
   ]
  },
  {
   "cell_type": "code",
   "execution_count": 7,
   "id": "354a6c27",
   "metadata": {},
   "outputs": [],
   "source": [
    "job_skills = soup.select('div > div.css-y4udm8 > div')"
   ]
  },
  {
   "cell_type": "code",
   "execution_count": 8,
   "id": "57a7610c",
   "metadata": {},
   "outputs": [],
   "source": [
    "jobs_type = soup.find_all(\"div\", {\"class\": \"css-1lh32fc\"} )"
   ]
  },
  {
   "cell_type": "code",
   "execution_count": 9,
   "id": "ce6c5bea",
   "metadata": {},
   "outputs": [],
   "source": [
    "published_time = soup.select('div > div.css-laomuu > div > div')"
   ]
  },
  {
   "cell_type": "code",
   "execution_count": 10,
   "id": "f33255d4",
   "metadata": {},
   "outputs": [],
   "source": [
    "links =  soup.select('div.css-laomuu > h2 > a') "
   ]
  },
  {
   "cell_type": "code",
   "execution_count": 39,
   "id": "09707ad3",
   "metadata": {},
   "outputs": [
    {
     "data": {
      "text/plain": [
       "11"
      ]
     },
     "execution_count": 39,
     "metadata": {},
     "output_type": "execute_result"
    }
   ],
   "source": [
    "# len(job_links)"
   ]
  },
  {
   "cell_type": "code",
   "execution_count": 56,
   "id": "b0bb5a1c",
   "metadata": {},
   "outputs": [],
   "source": [
    "# add clear text to new list\n",
    "job_title = []\n",
    "company_name = []\n",
    "location_name = []\n",
    "skills = []\n",
    "job_type = []\n",
    "date_posted = []\n",
    "job_links = []\n",
    "\n",
    "# loop  for all element that we scraped\n",
    "\n",
    "for i in range(len(job_titles)):\n",
    "    job_title.append(job_titles[i].text)\n",
    "    company_name.append(company_names[i].text)\n",
    "    location_name.append(location_names[i].text)\n",
    "    job_links.append(\"https://wuzzuf.net\"+ links[i].attrs['href'])\n",
    "    job_type.append(jobs_type[i].text.replace('Full Time', 'Full Time '))\n",
    "    date_posted.append(published_time[i].text)\n",
    "    \n",
    "for x in range(len(job_skills)):\n",
    "    if (x % 2 == 1):\n",
    "        skills.append(job_skills[x].text.replace('·', ':',1).replace('·', '|'))"
   ]
  },
  {
   "cell_type": "code",
   "execution_count": 57,
   "id": "e96057fc",
   "metadata": {},
   "outputs": [
    {
     "data": {
      "text/html": [
       "<div>\n",
       "<style scoped>\n",
       "    .dataframe tbody tr th:only-of-type {\n",
       "        vertical-align: middle;\n",
       "    }\n",
       "\n",
       "    .dataframe tbody tr th {\n",
       "        vertical-align: top;\n",
       "    }\n",
       "\n",
       "    .dataframe thead th {\n",
       "        text-align: right;\n",
       "    }\n",
       "</style>\n",
       "<table border=\"1\" class=\"dataframe\">\n",
       "  <thead>\n",
       "    <tr style=\"text-align: right;\">\n",
       "      <th></th>\n",
       "      <th>Job Title</th>\n",
       "      <th>Company Name</th>\n",
       "      <th>Location Name</th>\n",
       "      <th>Skills</th>\n",
       "      <th>Job Type</th>\n",
       "      <th>Posted Published</th>\n",
       "      <th>Link</th>\n",
       "    </tr>\n",
       "  </thead>\n",
       "  <tbody>\n",
       "    <tr>\n",
       "      <th>0</th>\n",
       "      <td>Data Scientist &amp; BI Developer</td>\n",
       "      <td>Easy System -</td>\n",
       "      <td>New Cairo, Cairo, Egypt</td>\n",
       "      <td>Experienced : 5 - 10 Yrs of Exp | IT/Software ...</td>\n",
       "      <td>Full Time Part Time</td>\n",
       "      <td>1 month ago</td>\n",
       "      <td>https://wuzzuf.net/jobs/p/VmhCzmW8TxNC-Data-Sc...</td>\n",
       "    </tr>\n",
       "    <tr>\n",
       "      <th>1</th>\n",
       "      <td>Data Annotation</td>\n",
       "      <td>GAP CLOUD -</td>\n",
       "      <td>Maadi, Cairo, Egypt</td>\n",
       "      <td>Experienced : 2+ Yrs of Exp | Administration |...</td>\n",
       "      <td>Full Time Part Time</td>\n",
       "      <td>9 days ago</td>\n",
       "      <td>https://wuzzuf.net/jobs/p/woeQyRs8Tf35-Data-An...</td>\n",
       "    </tr>\n",
       "    <tr>\n",
       "      <th>2</th>\n",
       "      <td>Sr- Data Engineer</td>\n",
       "      <td>more and more -</td>\n",
       "      <td>Cairo, Egypt</td>\n",
       "      <td>Experienced : 4 - 10 Yrs of Exp | IT/Software ...</td>\n",
       "      <td>Full Time</td>\n",
       "      <td>18 days ago</td>\n",
       "      <td>https://wuzzuf.net/jobs/p/TI1be8p1uc7y-Sr--Dat...</td>\n",
       "    </tr>\n",
       "    <tr>\n",
       "      <th>3</th>\n",
       "      <td>Data &amp; Reporting Lead</td>\n",
       "      <td>Edentech -</td>\n",
       "      <td>Cairo, Egypt</td>\n",
       "      <td>Manager : 8+ Yrs of Exp | IT/Software Developm...</td>\n",
       "      <td>Full Time</td>\n",
       "      <td>2 months ago</td>\n",
       "      <td>https://wuzzuf.net/jobs/p/PYe7JUkNKO97-Data-Re...</td>\n",
       "    </tr>\n",
       "    <tr>\n",
       "      <th>4</th>\n",
       "      <td>Big data Expert</td>\n",
       "      <td>Perfect Presentation -</td>\n",
       "      <td>6th of October, Giza, Egypt</td>\n",
       "      <td>Experienced : 5 - 7 Yrs of Exp | IT/Software D...</td>\n",
       "      <td>Full Time</td>\n",
       "      <td>2 months ago</td>\n",
       "      <td>https://wuzzuf.net/jobs/p/7wP3PuIsn0L3-Big-dat...</td>\n",
       "    </tr>\n",
       "    <tr>\n",
       "      <th>5</th>\n",
       "      <td>Full Stack Senior Java Developer (Remotely for...</td>\n",
       "      <td>Mobile Wave 3 -</td>\n",
       "      <td>Nasr City, Cairo, Egypt</td>\n",
       "      <td>Experienced : 4 - 7 Yrs of Exp | IT/Software D...</td>\n",
       "      <td>Full Time</td>\n",
       "      <td>1 month ago</td>\n",
       "      <td>https://wuzzuf.net/jobs/p/RvxHh93gyQn7-Full-St...</td>\n",
       "    </tr>\n",
       "    <tr>\n",
       "      <th>6</th>\n",
       "      <td>Research Software Development Engineer</td>\n",
       "      <td>TensorGraph -</td>\n",
       "      <td>Maadi, Cairo, Egypt</td>\n",
       "      <td>Experienced : 2 - 4 Yrs of Exp | IT/Software D...</td>\n",
       "      <td>Full Time</td>\n",
       "      <td>24 days ago</td>\n",
       "      <td>https://wuzzuf.net/jobs/p/bcodR5Fpewkv-Researc...</td>\n",
       "    </tr>\n",
       "    <tr>\n",
       "      <th>7</th>\n",
       "      <td>Marketing Executive</td>\n",
       "      <td>Hamza Group -</td>\n",
       "      <td>Dokki, Giza, Egypt</td>\n",
       "      <td>Experienced : 3+ Yrs of Exp | Marketing/PR/Adv...</td>\n",
       "      <td>Full Time</td>\n",
       "      <td>2 months ago</td>\n",
       "      <td>https://wuzzuf.net/jobs/p/U9tpd3qGvzuA-Marketi...</td>\n",
       "    </tr>\n",
       "    <tr>\n",
       "      <th>8</th>\n",
       "      <td>Enterprise Architect Lead</td>\n",
       "      <td>Meem Development -</td>\n",
       "      <td>Glim, Alexandria, Egypt</td>\n",
       "      <td>Manager : 8 - 12 Yrs of Exp | IT/Software Deve...</td>\n",
       "      <td>Full Time</td>\n",
       "      <td>1 month ago</td>\n",
       "      <td>https://wuzzuf.net/jobs/p/i1pqsnp87727-Enterpr...</td>\n",
       "    </tr>\n",
       "    <tr>\n",
       "      <th>9</th>\n",
       "      <td>Integration Developer</td>\n",
       "      <td>Perfect Presentation -</td>\n",
       "      <td>6th of October, Giza, Egypt</td>\n",
       "      <td>Experienced : 5 - 7 Yrs of Exp | IT/Software D...</td>\n",
       "      <td>Full Time</td>\n",
       "      <td>2 months ago</td>\n",
       "      <td>https://wuzzuf.net/jobs/p/ZlU5FLyPcSxU-Integra...</td>\n",
       "    </tr>\n",
       "    <tr>\n",
       "      <th>10</th>\n",
       "      <td>Senior Computer Vision Engineer</td>\n",
       "      <td>Atomica -</td>\n",
       "      <td>Cairo, Egypt</td>\n",
       "      <td>Experienced : 3 - 10 Yrs of Exp | IT/Software ...</td>\n",
       "      <td>Full Time Work From Home</td>\n",
       "      <td>2 months ago</td>\n",
       "      <td>https://wuzzuf.net/jobs/p/k9aorzMuNSrg-Senior-...</td>\n",
       "    </tr>\n",
       "  </tbody>\n",
       "</table>\n",
       "</div>"
      ],
      "text/plain": [
       "                                            Job Title            Company Name  \\\n",
       "0                       Data Scientist & BI Developer           Easy System -   \n",
       "1                                     Data Annotation             GAP CLOUD -   \n",
       "2                                   Sr- Data Engineer         more and more -   \n",
       "3                               Data & Reporting Lead              Edentech -   \n",
       "4                                     Big data Expert  Perfect Presentation -   \n",
       "5   Full Stack Senior Java Developer (Remotely for...         Mobile Wave 3 -   \n",
       "6              Research Software Development Engineer           TensorGraph -   \n",
       "7                                 Marketing Executive           Hamza Group -   \n",
       "8                           Enterprise Architect Lead      Meem Development -   \n",
       "9                               Integration Developer  Perfect Presentation -   \n",
       "10                    Senior Computer Vision Engineer               Atomica -   \n",
       "\n",
       "                   Location Name  \\\n",
       "0       New Cairo, Cairo, Egypt    \n",
       "1           Maadi, Cairo, Egypt    \n",
       "2                  Cairo, Egypt    \n",
       "3                  Cairo, Egypt    \n",
       "4   6th of October, Giza, Egypt    \n",
       "5       Nasr City, Cairo, Egypt    \n",
       "6           Maadi, Cairo, Egypt    \n",
       "7            Dokki, Giza, Egypt    \n",
       "8       Glim, Alexandria, Egypt    \n",
       "9   6th of October, Giza, Egypt    \n",
       "10                 Cairo, Egypt    \n",
       "\n",
       "                                               Skills  \\\n",
       "0   Experienced : 5 - 10 Yrs of Exp | IT/Software ...   \n",
       "1   Experienced : 2+ Yrs of Exp | Administration |...   \n",
       "2   Experienced : 4 - 10 Yrs of Exp | IT/Software ...   \n",
       "3   Manager : 8+ Yrs of Exp | IT/Software Developm...   \n",
       "4   Experienced : 5 - 7 Yrs of Exp | IT/Software D...   \n",
       "5   Experienced : 4 - 7 Yrs of Exp | IT/Software D...   \n",
       "6   Experienced : 2 - 4 Yrs of Exp | IT/Software D...   \n",
       "7   Experienced : 3+ Yrs of Exp | Marketing/PR/Adv...   \n",
       "8   Manager : 8 - 12 Yrs of Exp | IT/Software Deve...   \n",
       "9   Experienced : 5 - 7 Yrs of Exp | IT/Software D...   \n",
       "10  Experienced : 3 - 10 Yrs of Exp | IT/Software ...   \n",
       "\n",
       "                    Job Type Posted Published  \\\n",
       "0        Full Time Part Time      1 month ago   \n",
       "1        Full Time Part Time       9 days ago   \n",
       "2                 Full Time       18 days ago   \n",
       "3                 Full Time      2 months ago   \n",
       "4                 Full Time      2 months ago   \n",
       "5                 Full Time       1 month ago   \n",
       "6                 Full Time       24 days ago   \n",
       "7                 Full Time      2 months ago   \n",
       "8                 Full Time       1 month ago   \n",
       "9                 Full Time      2 months ago   \n",
       "10  Full Time Work From Home     2 months ago   \n",
       "\n",
       "                                                 Link  \n",
       "0   https://wuzzuf.net/jobs/p/VmhCzmW8TxNC-Data-Sc...  \n",
       "1   https://wuzzuf.net/jobs/p/woeQyRs8Tf35-Data-An...  \n",
       "2   https://wuzzuf.net/jobs/p/TI1be8p1uc7y-Sr--Dat...  \n",
       "3   https://wuzzuf.net/jobs/p/PYe7JUkNKO97-Data-Re...  \n",
       "4   https://wuzzuf.net/jobs/p/7wP3PuIsn0L3-Big-dat...  \n",
       "5   https://wuzzuf.net/jobs/p/RvxHh93gyQn7-Full-St...  \n",
       "6   https://wuzzuf.net/jobs/p/bcodR5Fpewkv-Researc...  \n",
       "7   https://wuzzuf.net/jobs/p/U9tpd3qGvzuA-Marketi...  \n",
       "8   https://wuzzuf.net/jobs/p/i1pqsnp87727-Enterpr...  \n",
       "9   https://wuzzuf.net/jobs/p/ZlU5FLyPcSxU-Integra...  \n",
       "10  https://wuzzuf.net/jobs/p/k9aorzMuNSrg-Senior-...  "
      ]
     },
     "execution_count": 57,
     "metadata": {},
     "output_type": "execute_result"
    }
   ],
   "source": [
    "# Pandas Dataframe\n",
    "\n",
    "df_Jobs = pd.DataFrame({'Job Title':job_title, 'Company Name':company_name, 'Location Name':location_name, 'Skills':skills,\n",
    "                          'Job Type': job_type, 'Posted Published': date_posted, 'Link' : job_links })\n",
    "df_Jobs"
   ]
  },
  {
   "cell_type": "code",
   "execution_count": 58,
   "id": "37d9dee1",
   "metadata": {},
   "outputs": [
    {
     "data": {
      "text/plain": [
       "'Experienced : 5 - 10 Yrs of Exp | IT/Software Development | Engineering - Telecom/Technology | Python | Data Science | Information Technology (IT) | Data | Computer Science | Oracle Obiee | Microsoft Power BI | Power BI'"
      ]
     },
     "execution_count": 58,
     "metadata": {},
     "output_type": "execute_result"
    }
   ],
   "source": [
    "df_Jobs['Skills'][0]"
   ]
  },
  {
   "cell_type": "code",
   "execution_count": 59,
   "id": "7d0df623",
   "metadata": {},
   "outputs": [],
   "source": [
    "# Store results in Excel\n",
    "\n",
    "df_Jobs.to_csv('Jobs.csv', index=False)"
   ]
  }
 ],
 "metadata": {
  "kernelspec": {
   "display_name": "Python 3 (ipykernel)",
   "language": "python",
   "name": "python3"
  },
  "language_info": {
   "codemirror_mode": {
    "name": "ipython",
    "version": 3
   },
   "file_extension": ".py",
   "mimetype": "text/x-python",
   "name": "python",
   "nbconvert_exporter": "python",
   "pygments_lexer": "ipython3",
   "version": "3.9.12"
  }
 },
 "nbformat": 4,
 "nbformat_minor": 5
}
